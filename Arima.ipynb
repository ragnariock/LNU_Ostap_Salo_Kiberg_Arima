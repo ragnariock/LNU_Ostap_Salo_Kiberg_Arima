{
  "nbformat": 4,
  "nbformat_minor": 0,
  "metadata": {
    "kernelspec": {
      "name": "python3",
      "display_name": "Python 3"
    },
    "language_info": {
      "codemirror_mode": {
        "name": "ipython",
        "version": 3
      },
      "file_extension": ".py",
      "mimetype": "text/x-python",
      "name": "python",
      "nbconvert_exporter": "python",
      "pygments_lexer": "ipython3",
      "version": "3.6.8"
    },
    "colab": {
      "name": "Arima.ipynb",
      "provenance": [],
      "collapsed_sections": [],
      "toc_visible": true,
      "include_colab_link": true
    },
    "accelerator": "GPU"
  },
  "cells": [
    {
      "cell_type": "markdown",
      "metadata": {
        "id": "view-in-github",
        "colab_type": "text"
      },
      "source": [
        "<a href=\"https://colab.research.google.com/github/ragnariock/LNU_Ostap_Salo_Kiberg_Arima/blob/master/Arima.ipynb\" target=\"_parent\"><img src=\"https://colab.research.google.com/assets/colab-badge.svg\" alt=\"Open In Colab\"/></a>"
      ]
    },
    {
      "cell_type": "code",
      "metadata": {
        "id": "VxTYevI8RwDE",
        "colab_type": "code",
        "colab": {}
      },
      "source": [
        "import math \n",
        "import matplotlib.pyplot as plt\n",
        "from sympy import symbols, diff\n",
        "import re\n",
        "import numpy as np\n",
        "\n",
        "import pandas as pd\n",
        "from statsmodels.tsa.arima_model import ARIMA\n",
        "import statsmodels.api as sm"
      ],
      "execution_count": 0,
      "outputs": []
    },
    {
      "cell_type": "code",
      "metadata": {
        "id": "dldcFzDgRwDM",
        "colab_type": "code",
        "colab": {}
      },
      "source": [
        "# Data : \n",
        "# Продаж солодкої води :\n",
        "\n",
        "x = [i for i in range(1,37)]\n",
        "\n",
        "y = [9,10,10,11,12,18,26,40,39,28,20,13,\n",
        "     8,9,11,9,13,15,33,45,45,25,18,10,\n",
        "     7,9,10,11,13,15,31,40,35,26,19,13]\n",
        "\n",
        "\n"
      ],
      "execution_count": 0,
      "outputs": []
    },
    {
      "cell_type": "code",
      "metadata": {
        "id": "8Yk3MYTYRwDS",
        "colab_type": "code",
        "outputId": "1b5574ab-c1b6-4f92-c12b-082c3e2ce48d",
        "colab": {
          "base_uri": "https://localhost:8080/",
          "height": 268
        }
      },
      "source": [
        "plt.plot(x, y)\n",
        "plt.axis([0, 50, 0, 50])\n",
        "plt.show()"
      ],
      "execution_count": 0,
      "outputs": [
        {
          "output_type": "display_data",
          "data": {
            "image/png": "[encoded data removed]",
            "text/plain": [
              "<Figure size 432x288 with 1 Axes>"
            ]
          },
          "metadata": {
            "tags": []
          }
        }
      ]
    },
    {
      "cell_type": "code",
      "metadata": {
        "id": "Kv-rUAjGRwDZ",
        "colab_type": "code",
        "colab": {}
      },
      "source": [
        "## Stage find regressions : \n",
        "\n",
        "def Cov(a,b):\n",
        "    a = list(a)\n",
        "    b = list(b)\n",
        "    \n",
        "    avr_a = 0\n",
        "    for i in range(len(a)):\n",
        "        avr_a +=a[i]\n",
        "    avr_a /=len(a)\n",
        "    \n",
        "    avr_b = 0\n",
        "    for i in range(len(b)):\n",
        "        avr_b += b[i]\n",
        "    avr_b /= len(b)\n",
        "    \n",
        "    znamenik = 0\n",
        "    for i in range(len(a)):\n",
        "        znamenik += (a[i] - avr_a) * (b[i] - avr_b)\n",
        "    \n",
        "    chiselnik = len(a) - 1\n",
        "    \n",
        "    cov = 0 \n",
        "    \n",
        "    cov = znamenik / chiselnik\n",
        "    \n",
        "    return cov\n"
      ],
      "execution_count": 0,
      "outputs": []
    },
    {
      "cell_type": "code",
      "metadata": {
        "id": "yHVmL5O9RwDe",
        "colab_type": "code",
        "outputId": "780da36c-f01f-4f6e-d749-ab29bdfc094a",
        "colab": {
          "base_uri": "https://localhost:8080/",
          "height": 34
        }
      },
      "source": [
        "print('кореляція = ', Cov(x,y))"
      ],
      "execution_count": 0,
      "outputs": [
        {
          "output_type": "stream",
          "text": [
            "кореляція =  18.62857142857143\n"
          ],
          "name": "stdout"
        }
      ]
    },
    {
      "cell_type": "code",
      "metadata": {
        "id": "6btVEYc4RwDk",
        "colab_type": "code",
        "outputId": "e733b634-e018-47c9-f467-21df4089641c",
        "colab": {
          "base_uri": "https://localhost:8080/",
          "height": 34
        }
      },
      "source": [
        "def standart_error(a,b):\n",
        "    # Дисперсії :\n",
        "    avr_a = 0\n",
        "    for i in range(len(a)):\n",
        "        avr_a += a[i]\n",
        "    avr_a /=len(a)\n",
        "    \n",
        "    avr_b = 0\n",
        "    for i in range(len(b)):\n",
        "        avr_b += b[i]  \n",
        "    avr_b /= len(b)\n",
        "    \n",
        "    d_a = 0 # dispersia\n",
        "    for i in range(len(a)):\n",
        "        d_a += math.pow((a[i] - avr_a),2)\n",
        "        \n",
        "    d_b = 0 # dispersia\n",
        "    for i in range(len(b)):\n",
        "        d_b += math.pow((b[i] - avr_b),2)\n",
        "        \n",
        "    # Стандартне відхилення :\n",
        "    std_a = 0\n",
        "    std_b = 0\n",
        "    \n",
        "    std_a = math.pow(d_a,(0.5))\n",
        "    std_b = math.pow(d_b ,(0.5))\n",
        "    \n",
        "    return std_a,std_b \n",
        "\n",
        "def rxy(a,b):\n",
        "    std_a,std_b = standart_error(a,b)\n",
        "    # cof_korell :\n",
        "    cov = Cov(a,b)\n",
        "    cof_korell = cov / (std_a * std_b)\n",
        "    \n",
        "    return cof_korell\n",
        "print('Кофіцієнт кореляції :',rxy(x,y))"
      ],
      "execution_count": 0,
      "outputs": [
        {
          "output_type": "stream",
          "text": [
            "Кофіцієнт кореляції : 0.00429572464444998\n"
          ],
          "name": "stdout"
        }
      ]
    },
    {
      "cell_type": "code",
      "metadata": {
        "id": "sQ3nQBm6RwDp",
        "colab_type": "code",
        "outputId": "de28aaea-ccda-4079-f5d4-c19c29499023",
        "colab": {
          "base_uri": "https://localhost:8080/",
          "height": 34
        }
      },
      "source": [
        "print('Кофіцієнт детермінації : ',math.pow(rxy(x,y),(0.5)))"
      ],
      "execution_count": 0,
      "outputs": [
        {
          "output_type": "stream",
          "text": [
            "Кофіцієнт детермінації :  0.06554177785542577\n"
          ],
          "name": "stdout"
        }
      ]
    },
    {
      "cell_type": "code",
      "metadata": {
        "id": "aeKDrTWjRwDv",
        "colab_type": "code",
        "outputId": "ee29ada4-bdf3-47f6-92dc-e9a8f475bbac",
        "colab": {
          "base_uri": "https://localhost:8080/",
          "height": 34
        }
      },
      "source": [
        "def firstRegressor(a,b):\n",
        "    std_a,std_b = standart_error(a,b)\n",
        "    cov = Cov(a,b)\n",
        "    \n",
        "    # Регресор :\n",
        "    first = (std_a / std_b) * cov\n",
        "    return first \n",
        "firstRegressor(x,y)"
      ],
      "execution_count": 0,
      "outputs": [
        {
          "output_type": "execute_result",
          "data": {
            "text/plain": [
              "16.688890243688178"
            ]
          },
          "metadata": {
            "tags": []
          },
          "execution_count": 8
        }
      ]
    },
    {
      "cell_type": "code",
      "metadata": {
        "id": "KjLi_uO0RwD1",
        "colab_type": "code",
        "outputId": "1004e7a8-f8db-4f2b-cf53-07d02f2ef3bf",
        "colab": {
          "base_uri": "https://localhost:8080/",
          "height": 34
        }
      },
      "source": [
        "def secondRegressor(a,b):\n",
        "    avr_a = 0\n",
        "    for i in range(len(a)):\n",
        "        avr_a += a[i]\n",
        "    avr_a /= len(a)\n",
        "    \n",
        "    avr_b = 0\n",
        "    for i in range(len(b)):\n",
        "        avr_b += b[i]\n",
        "    avr_b /= len(b)\n",
        "    first = firstRegressor(a,b)\n",
        "    \n",
        "    second = avr_b - (first * avr_a)\n",
        "    return second\n",
        "secondRegressor(x,y)"
      ],
      "execution_count": 0,
      "outputs": [
        {
          "output_type": "execute_result",
          "data": {
            "text/plain": [
              "-289.1333583971202"
            ]
          },
          "metadata": {
            "tags": []
          },
          "execution_count": 9
        }
      ]
    },
    {
      "cell_type": "code",
      "metadata": {
        "id": "qWqVJ1bXRwD6",
        "colab_type": "code",
        "colab": {}
      },
      "source": [
        ""
      ],
      "execution_count": 0,
      "outputs": []
    },
    {
      "cell_type": "code",
      "metadata": {
        "id": "xffzaFnzRwD_",
        "colab_type": "code",
        "colab": {}
      },
      "source": [
        ""
      ],
      "execution_count": 0,
      "outputs": []
    },
    {
      "cell_type": "code",
      "metadata": {
        "id": "tBLmIuSvRwEE",
        "colab_type": "code",
        "outputId": "4f8549bf-ece1-46b8-be9e-482654b83e5e",
        "colab": {
          "base_uri": "https://localhost:8080/",
          "height": 34
        }
      },
      "source": [
        "def minMNK(a,b):\n",
        "    function = 0\n",
        "    w0, w1 = symbols('x y', real=True)\n",
        "    \n",
        "    for i in range(len(a)):\n",
        "        function +=(w1*a[i] + w0 - b[i]) ** 2\n",
        "        \n",
        "    #print(function)\n",
        "    \n",
        "    function1W0 = diff(function,w0)\n",
        "    function2W1 = diff(function,w1)\n",
        "        \n",
        "    #print(function1W0)\n",
        "   # print(function2W1)\n",
        "    \n",
        "    function1W0 = str(function1W0)\n",
        "    function2W1 = str(function2W1)\n",
        "    \n",
        "\n",
        "    result1 = re.findall(r'\\d+',function1W0)\n",
        "    result2 = re.findall(r'\\d+',function2W1)\n",
        "    \n",
        "    for i in range(len(result1)):\n",
        "        result1[i] = int(result1[i])\n",
        "        \n",
        "    for i in range(len(result2)):\n",
        "        result2[i] = int(result2[i])\n",
        "    \n",
        "    \n",
        "    matrix = [result1[0:2],result2[0:2]]\n",
        "    matrix_result = [result1[2],result2[2]]\n",
        "    \n",
        "    #print('\\n')\n",
        "    \n",
        "    #for i in range(2):\n",
        "       # print(matrix[i],'  \\t=   ',matrix_result[i])\n",
        "    \n",
        "    #print(matrix)\n",
        "    #print(matrix_result)\n",
        "    resultAll = np.linalg.solve(matrix,matrix_result)\n",
        "    \n",
        "    new_w0, new_w1 = resultAll\n",
        "    \n",
        "    return new_w0, new_w1\n",
        "minMNK(x,y)  "
      ],
      "execution_count": 0,
      "outputs": [
        {
          "output_type": "execute_result",
          "data": {
            "text/plain": [
              "(16.506349206349206, 0.16782496782496775)"
            ]
          },
          "metadata": {
            "tags": []
          },
          "execution_count": 10
        }
      ]
    },
    {
      "cell_type": "code",
      "metadata": {
        "id": "ZmTZGPKRRwEJ",
        "colab_type": "code",
        "colab": {}
      },
      "source": [
        "def linerRegression(a,b,x):\n",
        "    w0,w1 = minMNK(a,b)\n",
        "    y = w0 + (w1*x)\n",
        "    return y "
      ],
      "execution_count": 0,
      "outputs": []
    },
    {
      "cell_type": "code",
      "metadata": {
        "id": "V_eATPtQRwES",
        "colab_type": "code",
        "outputId": "9120d7d1-d333-4a1c-e64e-bec26479a20e",
        "colab": {
          "base_uri": "https://localhost:8080/",
          "height": 34
        }
      },
      "source": [
        "print('Результат лінійної регресі на 37 місяць : ', linerRegression(x,y,37))"
      ],
      "execution_count": 0,
      "outputs": [
        {
          "output_type": "stream",
          "text": [
            "Результат лінійної регресі на 37 місяць :  22.715873015873015\n"
          ],
          "name": "stdout"
        }
      ]
    },
    {
      "cell_type": "code",
      "metadata": {
        "id": "RZqVcwQlRwEW",
        "colab_type": "code",
        "colab": {}
      },
      "source": [
        ""
      ],
      "execution_count": 0,
      "outputs": []
    },
    {
      "cell_type": "markdown",
      "metadata": {
        "id": "xYOdy_W3SFgB",
        "colab_type": "text"
      },
      "source": [
        "## DegreeData : "
      ]
    },
    {
      "cell_type": "code",
      "metadata": {
        "id": "1MrFBlHtRwEc",
        "colab_type": "code",
        "colab": {}
      },
      "source": [
        "data = pd.read_csv('full_external_temperatures.csv',header=0, parse_dates=[0], index_col=0, squeeze=True)"
      ],
      "execution_count": 0,
      "outputs": []
    },
    {
      "cell_type": "code",
      "metadata": {
        "id": "SVSXnO7yRwEk",
        "colab_type": "code",
        "colab": {}
      },
      "source": [
        "x = []\n",
        "temp_x = []\n",
        "temp_x.extend(data['dateTime'])\n",
        "for i in range(2000):\n",
        "    x.append(temp_x[i])\n",
        "    \n",
        "x_data = []\n",
        "for i in range(200):\n",
        "    x_data.append(i)"
      ],
      "execution_count": 0,
      "outputs": []
    },
    {
      "cell_type": "code",
      "metadata": {
        "id": "K57KbajgRwEq",
        "colab_type": "code",
        "colab": {}
      },
      "source": [
        "y = []\n",
        "temp_y = []\n",
        "temp_y.extend(data['data'])\n",
        "for i in range(200):\n",
        "    y.append(temp_y[i])"
      ],
      "execution_count": 0,
      "outputs": []
    },
    {
      "cell_type": "code",
      "metadata": {
        "id": "9f4GM0j8RwEv",
        "colab_type": "code",
        "colab": {}
      },
      "source": [
        "test_y = []\n",
        "temp_y = []\n",
        "temp_y.extend(data['data'])\n",
        "for i in range(2003):\n",
        "    test_y.append(temp_y[i])"
      ],
      "execution_count": 0,
      "outputs": []
    },
    {
      "cell_type": "code",
      "metadata": {
        "id": "A9qEznRzRwE0",
        "colab_type": "code",
        "outputId": "cbbd7f5e-c146-4b62-ebb7-867d1a5b8ed5",
        "colab": {
          "base_uri": "https://localhost:8080/",
          "height": 34
        }
      },
      "source": [
        "# Автокорегресія :\n",
        "def auto_reg(a,b,p=1):\n",
        "    w0,w1 = minMNK(a,b)\n",
        "    function = w0\n",
        "    #print(w0)\n",
        "    result_array = []\n",
        "    for i in range(p):\n",
        "        len_arr = len(a) - i -1\n",
        "        \n",
        "        w0,w1 = minMNK(a[0:len_arr],b[0:len_arr])\n",
        "        #print('liner - ',res_liner_regr, 'b - ',b[len_arr])\n",
        "        function += b[len_arr] * w1\n",
        "        \n",
        "        result_array.append(function)\n",
        "    return function\n",
        "auto_reg(x_data,y,p=5)"
      ],
      "execution_count": 0,
      "outputs": [
        {
          "output_type": "execute_result",
          "data": {
            "text/plain": [
              "8.931993883482486"
            ]
          },
          "metadata": {
            "tags": []
          },
          "execution_count": 26
        }
      ]
    },
    {
      "cell_type": "code",
      "metadata": {
        "id": "LwfkFmLMRwE8",
        "colab_type": "code",
        "outputId": "2099e8d0-4c54-44a9-d002-52b51fff5626",
        "colab": {
          "base_uri": "https://localhost:8080/",
          "height": 34
        }
      },
      "source": [
        "# Скільзьке середнє :\n",
        "def SMA(b,p=3):\n",
        "    SMA_res = []\n",
        "    sum_b = 0\n",
        "    num = 0\n",
        "    for i in range(len(b) - p):\n",
        "        for j in range(p):\n",
        "            sum_b += b[i+j]\n",
        "        SMA_res.append(sum_b / p)\n",
        "        sum_b = 0\n",
        "    return SMA_res\n",
        "def MA_foresee(b,p):\n",
        "    SMA_res = 0\n",
        "\n",
        "    for i in range(p):\n",
        "        sum_b = len(b) - i -1\n",
        "        SMA_res += b[sum_b]\n",
        "        SMA_res /= p\n",
        "    return SMA_res\n",
        "def MAGrath(b,p=3):\n",
        "    SMA_res = []\n",
        "    sum_b = 0\n",
        "    num = 0\n",
        "    for i in range(len(b) - p):\n",
        "        for j in range(p):\n",
        "            sum_b += b[i+j]\n",
        "        SMA_res.append(sum_b / p)\n",
        "        sum_b = 0\n",
        "    return SMA_res\n",
        "\n",
        "MA_foresee(y,2)"
      ],
      "execution_count": 0,
      "outputs": [
        {
          "output_type": "execute_result",
          "data": {
            "text/plain": [
              "8.254999999999999"
            ]
          },
          "metadata": {
            "tags": []
          },
          "execution_count": 18
        }
      ]
    },
    {
      "cell_type": "code",
      "metadata": {
        "id": "ZfNGzLyZRwFH",
        "colab_type": "code",
        "colab": {}
      },
      "source": [
        "MA_arr = [0,0,0]\n",
        "temp_arr = SMA(y)\n",
        "for i in range(len(temp_arr)):\n",
        "    MA_arr.append(temp_arr[i])"
      ],
      "execution_count": 0,
      "outputs": []
    },
    {
      "cell_type": "code",
      "metadata": {
        "id": "FXmrssURRwFP",
        "colab_type": "code",
        "colab": {}
      },
      "source": [
        ""
      ],
      "execution_count": 0,
      "outputs": []
    },
    {
      "cell_type": "code",
      "metadata": {
        "id": "wP4uaH3ZRwFT",
        "colab_type": "code",
        "outputId": "24ab6946-f2a1-45c3-e7ad-33485f717aef",
        "colab": {
          "base_uri": "https://localhost:8080/",
          "height": 268
        }
      },
      "source": [
        "plt.plot(x_data,MA_arr,'r')\n",
        "plt.plot(x_data, y,'g')\n",
        "plt.axis([0, 50, 0, 50])\n",
        "plt.show()"
      ],
      "execution_count": 0,
      "outputs": [
        {
          "output_type": "display_data",
          "data": {
            "image/png": "[encoded data removed]",
            "text/plain": [
              "<Figure size 432x288 with 1 Axes>"
            ]
          },
          "metadata": {
            "tags": []
          }
        }
      ]
    },
    {
      "cell_type": "code",
      "metadata": {
        "id": "h11iBlolUBFt",
        "colab_type": "code",
        "colab": {}
      },
      "source": [
        "test_y = []\n",
        "temp_y = []\n",
        "temp_y.extend(data['data'])\n",
        "for i in range(2003):\n",
        "    test_y.append(temp_y[i])"
      ],
      "execution_count": 0,
      "outputs": []
    },
    {
      "cell_type": "code",
      "metadata": {
        "id": "9ubAvi1SUDJU",
        "colab_type": "code",
        "outputId": "0042490f-f135-4509-8a4b-a396e32e6f03",
        "colab": {
          "base_uri": "https://localhost:8080/",
          "height": 34
        }
      },
      "source": [
        "print(test_y[201])"
      ],
      "execution_count": 0,
      "outputs": [
        {
          "output_type": "stream",
          "text": [
            "10.29\n"
          ],
          "name": "stdout"
        }
      ]
    },
    {
      "cell_type": "code",
      "metadata": {
        "id": "1pD1xFdkRwFY",
        "colab_type": "code",
        "outputId": "270bc03d-5fa3-4ef9-ee05-1a6955d23984",
        "colab": {
          "base_uri": "https://localhost:8080/",
          "height": 340
        }
      },
      "source": [
        "def ARIMA(x,y,my_x,p,q,d):\n",
        "    new_y = [0]\n",
        "    new_y1 = []\n",
        "    \n",
        "    MA_plust_ar = 0\n",
        "    \n",
        "    if d == 0:\n",
        "        MA_res = MA_foresee(y,q)\n",
        "        AR_res = auto_reg(x_data,y,p=p)\n",
        "        print(\"result MA = \", type(MA_res))\n",
        "        print(\"result AR = \", type(AR_res))\n",
        "        MA_plust_ar = MA_res + AR_res\n",
        "        \n",
        "        arr_MA = [0,0,0]\n",
        "        temp_MA = MAGrath(y)\n",
        "        for i in range(len(temp_MA)):\n",
        "            tr = temp_MA[i]\n",
        "            arr_MA.append(tr)\n",
        "        plt.plot(x_data,arr_MA,'r')\n",
        "        plt.plot(x_data,y,'b')\n",
        "        plt.axis([-10, 350, -10, 20])\n",
        "        plt.show()\n",
        "    elif d == 1:\n",
        "        for i in range(len(y)):\n",
        "            num = y[i] - y[i-1]\n",
        "            new_y.append(int(num))\n",
        "            num = 0\n",
        "        MA_res = MA_foresee(new_y,q)\n",
        "        AR_res = auto_reg(x_data,new_y,p=p)\n",
        "        print(\"result MA = \", MA_res)\n",
        "        print(\"result AR = \", AR_res)\n",
        "        MA_plust_ar = MA_res + AR_res\n",
        "      \n",
        "    elif d == 2:\n",
        "        for i in range(len(y)):\n",
        "            num = y[i] - y[i-1]\n",
        "            new_y.append(int(num))\n",
        "            num = 0\n",
        "        for i in range(len(new_y)):\n",
        "            num = new_y[i] - new_y[i-1]\n",
        "            new_y1.append(num)\n",
        "            num = 0\n",
        "        arr_MA = SMA(new_y1,p)\n",
        "        res_MA = 0\n",
        "        for i in range(len(arr_MA)):\n",
        "            res_MA += arrMA[i]\n",
        "        arr_AR = auto_reg()\n",
        "        \n",
        "    return \"predict \" + str(MA_plust_ar)\n",
        "        \n",
        "print(ARIMA(x_data,y,my_x=1,p=1,q=7,d=0))\n",
        "print(\"True value\",test_y[201])"
      ],
      "execution_count": 0,
      "outputs": [
        {
          "output_type": "stream",
          "text": [
            "result MA =  <class 'float'>\n",
            "result AR =  <class 'numpy.float64'>\n"
          ],
          "name": "stdout"
        },
        {
          "output_type": "display_data",
          "data": {
            "image/png": "[encoded data removed]",
            "text/plain": [
              "<Figure size 432x288 with 1 Axes>"
            ]
          },
          "metadata": {
            "tags": []
          }
        },
        {
          "output_type": "stream",
          "text": [
            "predict 10.243201426497652\n",
            "True value 10.29\n"
          ],
          "name": "stdout"
        }
      ]
    },
    {
      "cell_type": "code",
      "metadata": {
        "id": "ysiCt2f8RwFd",
        "colab_type": "code",
        "colab": {}
      },
      "source": [
        "print(ARIMA(x_data,y,my_x=201,p=2,q=6,d=0))"
      ],
      "execution_count": 0,
      "outputs": []
    },
    {
      "cell_type": "code",
      "metadata": {
        "id": "zpI8q7z8RwFi",
        "colab_type": "code",
        "colab": {}
      },
      "source": [
        ""
      ],
      "execution_count": 0,
      "outputs": []
    },
    {
      "cell_type": "code",
      "metadata": {
        "id": "0EgGaqF9RwFn",
        "colab_type": "code",
        "colab": {}
      },
      "source": [
        ""
      ],
      "execution_count": 0,
      "outputs": []
    },
    {
      "cell_type": "code",
      "metadata": {
        "id": "aoYOMHafRwFr",
        "colab_type": "code",
        "colab": {}
      },
      "source": [
        ""
      ],
      "execution_count": 0,
      "outputs": []
    },
    {
      "cell_type": "code",
      "metadata": {
        "id": "vZJaUuI3RwFv",
        "colab_type": "code",
        "colab": {}
      },
      "source": [
        ""
      ],
      "execution_count": 0,
      "outputs": []
    },
    {
      "cell_type": "code",
      "metadata": {
        "id": "L6NVRsa8RwF0",
        "colab_type": "code",
        "colab": {}
      },
      "source": [
        ""
      ],
      "execution_count": 0,
      "outputs": []
    },
    {
      "cell_type": "code",
      "metadata": {
        "id": "K4xpBVUpRwF5",
        "colab_type": "code",
        "colab": {}
      },
      "source": [
        ""
      ],
      "execution_count": 0,
      "outputs": []
    },
    {
      "cell_type": "code",
      "metadata": {
        "id": "_vQn7DSlRwF9",
        "colab_type": "code",
        "colab": {}
      },
      "source": [
        ""
      ],
      "execution_count": 0,
      "outputs": []
    },
    {
      "cell_type": "code",
      "metadata": {
        "id": "qAp7NEFARwGA",
        "colab_type": "code",
        "colab": {}
      },
      "source": [
        ""
      ],
      "execution_count": 0,
      "outputs": []
    }
  ]
}